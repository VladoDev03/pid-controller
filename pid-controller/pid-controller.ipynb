{
 "cells": [
  {
   "cell_type": "code",
   "execution_count": 8,
   "id": "51d8aaa5-e7a7-4d8d-9145-c885b037d325",
   "metadata": {},
   "outputs": [],
   "source": [
    "%matplotlib inline"
   ]
  },
  {
   "cell_type": "code",
   "execution_count": 7,
   "id": "6f7f3558-dff1-471c-88f9-22aec376897f",
   "metadata": {},
   "outputs": [],
   "source": [
    "import numpy as np\n",
    "import sympy as sp\n",
    "import matplotlib.pyplot as plt"
   ]
  },
  {
   "cell_type": "markdown",
   "id": "77f3df3c-ee97-412e-8a7a-c8c91f867d36",
   "metadata": {},
   "source": [
    "# PID Controller\n",
    "### Proportional-integral-derivative controller"
   ]
  },
  {
   "cell_type": "markdown",
   "id": "0259cf2d-9e0c-4a64-abc4-6cb7111c6114",
   "metadata": {},
   "source": [
    "## Introduction\n",
    "A proportional–integral–derivative controller (also known as a three-term controller, though this is not always accurate – as we will see at the end of the Components section) is a feedback-based control loop mechanism commonly used to manage machines and processes that require continuous control and automatic adjustments. It is typically employed in industrial control systems where constant modulation is necessary without human intervention. Recently, it has also been used in everyday consumer technology. The PID controller automatically compares the target value (setpoint or $\\text{SP}$) with the actual value of the system (process variable or $\\text{PV}$). The difference between these two values is called the error value, denoted as $e(t)$.\n",
    "\n",
    "The three correcting terms sum up to form the manipulated variable ($\\text{MV}$). Let’s denote the controller output as $𝑢(𝑡)$ Thus, the final form of the PID controller algorithm can be expressed as:\n",
    "\n",
    "$$ u(t) = MV(t) = K_p e(t) + K_i \\int_{0}^{t} e(\\tau) \\text{d}\\tau + K_\\text{d} \\frac{\\text{d}e(t)}{\\text{d}t} $$\n",
    "\n",
    "It is important to note that:\n",
    "\n",
    "$K_p$ (proportional gain), $K_i$ (integral gain), $K_d$ (derivative gain) are tuning parameters (more on that in the Tuning section)\n",
    "\n",
    "$e(t) = \\text{SP} - \\text{PV}(t)$ is the error\n",
    "\n",
    "$t$ is the time or instantaneous time (the present),\n",
    "\n",
    "$\\tau$ is the variable of integration (takes on values from time $0$ to the present $t$)."
   ]
  },
  {
   "cell_type": "markdown",
   "id": "121c8f6e-38b9-4187-9cf8-9f105aef90f9",
   "metadata": {},
   "source": [
    "## Example use cases\n",
    "Let’s start with three examples that we’ll explore to help us understand what the actual operation of this algorithm looks like in practice.\n",
    "### Two-wheeled self-balancing robots\n",
    "A common example is a two-wheeled robot that balances itself. When the robot tilts forward or backward, the PID controller adjusts the wheel speed to maintain balance. This is achieved by continuously measuring the tilt angle and adjusting the motor power to restore balance quickly and smoothly, preventing the robot from tipping over.\n",
    "### Vehicle's cruise control system\n",
    "Another common example is the cruise control system in a car. For instance, when a car is climbing a hill, its speed will drop if the engine’s power output remains constant. The PID controller automatically adjusts the engine power to bring the car back to the desired speed efficiently, with minimal delay and overshoot.\n",
    "### Temperature control system\n",
    "Another example is temperature control in an industrial oven. If the oven temperature drops below the setpoint due to sudden heat loss (for example, when the door is opened), the PID controller increases the heating element’s power output to return the temperature to the desired level efficiently, minimizing overshoot and ensuring stable operation."
   ]
  },
  {
   "cell_type": "markdown",
   "id": "87fa0bd9-76c6-49ec-a96c-e948d3d080f4",
   "metadata": {},
   "source": [
    "## Components\n",
    "The PID controller algorithm consists of three main parts. Each letter in PID corresponds to one of them.\n",
    "\n",
    "It is important to note that there are situations in which one or two parts can be omitted. We will see examples of that further in this section.\n",
    "\n",
    "We are going to dive into each of them separately by partialy implementing the **Temperature control system** example. (Let's get some water boiling)\n",
    "\n",
    "However, before diving into the individual components, it would be helpful to have a way to visualize the results of each term. That’s why we need a plotting function."
   ]
  },
  {
   "cell_type": "code",
   "execution_count": 49,
   "id": "0db6e0c1-0a31-4626-a098-8856cb2a2d66",
   "metadata": {},
   "outputs": [],
   "source": [
    "def plot_terms():\n",
    "    print(\"PLotting...\")"
   ]
  },
  {
   "cell_type": "markdown",
   "id": "e7f00a8e-7598-42e2-a874-a3dc1d2b13ad",
   "metadata": {},
   "source": [
    "### P - Proportional\n",
    "The proportional term generates an output that directly relates to the current error value. This response is controlled by multiplying the error by a proportional gain constant $K_p$.\n",
    "\n",
    "The proportional term is given by\n",
    "\n",
    "$$ P_{out} = K_p e(t) $$\n",
    "\n",
    "When $K_p$ is high, even a small change in error causes a large output adjustment, which can make the system unstable if set too high. On the other hand, a low $K_p$ leads to a weak output response even for significant errors, making the controller less sensitive and slower to react. If $K_p$ is too low, the controller might not correct disturbances effectively.\n",
    "\n",
    "To begin with, let's implement the function that calculates the proportional term."
   ]
  },
  {
   "cell_type": "code",
   "execution_count": 46,
   "id": "cc484362-5dd2-455d-8d67-1aeca3f92521",
   "metadata": {},
   "outputs": [],
   "source": [
    "# Kp stands for the proportional gain\n",
    "# error = e(t) which is the current error\n",
    "def proportional_term(Kp, error):\n",
    "    # applying the gain and calculating the term\n",
    "    p_out = Kp * error\n",
    "\n",
    "    # returns the calculated proportional output\n",
    "    return p_out"
   ]
  },
  {
   "cell_type": "markdown",
   "id": "e6382aa1-e3c7-4390-bd32-2b1939b69625",
   "metadata": {},
   "source": [
    "Let's begin by initializing some values."
   ]
  },
  {
   "cell_type": "code",
   "execution_count": 47,
   "id": "2d4bb34a-df5a-47a4-8be2-aaf3325f5f4a",
   "metadata": {},
   "outputs": [],
   "source": [
    "# the proportional term output is proportional to the error\n",
    "Kp = 1.0\n",
    "\n",
    "# the desired temperature inside the oven\n",
    "setpoint = 100\n",
    "\n",
    "# the starting temperature inside the oven\n",
    "process_variable = 20\n",
    "\n",
    "# time interval for precise calculations\n",
    "dt = 0.1\n",
    "\n",
    "# 10 seconds time interval\n",
    "time = np.arange(0, 10, dt)\n",
    "\n",
    "# list to store the results\n",
    "process_values = []"
   ]
  },
  {
   "cell_type": "markdown",
   "id": "e358942d-8af3-4867-a38b-9c581ef4bc30",
   "metadata": {},
   "source": [
    "### I - Integral\n",
    "The integral term accounts for both how large the error is and how long it lasts. It sums up the error over time, capturing the total accumulated deviation that should have been corrected before. This accumulated error is then multiplied by the integral gain ($K_i$) and added to the controller’s output.\n",
    "\n",
    "The integral term is given by\n",
    "\n",
    "$$ I_{out} = K_i \\int_{0}^{t} e(\\tau) \\text{d}\\tau $$\n",
    "\n",
    "The integral action helps the process reach the target value faster and removes the steady-state error that a proportional controller alone cannot fix. However, since it reacts to past accumulated errors, it may cause the process to overshoot the desired setpoint.\n",
    "\n",
    "To begin with, let's implement the function that calculates the integral term."
   ]
  },
  {
   "cell_type": "code",
   "execution_count": 29,
   "id": "5be86bb3-997d-4afa-b9f9-315c4fc5aa70",
   "metadata": {},
   "outputs": [],
   "source": [
    "# Ki stands for the integral gain\n",
    "# integral is the accumulated integral\n",
    "# dt is the time step\n",
    "# error = e(t) which is the current error\n",
    "def integral_term(Ki, integral, error, dt):\n",
    "    # updating the integral value\n",
    "    integral = integral + error * dt\n",
    "\n",
    "    # appllying the gain and calculating the term\n",
    "    i_out = Ki * integral\n",
    "\n",
    "    # returns the calculated integral output and the updated integral\n",
    "    return i_out, integral"
   ]
  },
  {
   "cell_type": "markdown",
   "id": "70e8a6aa-0ca0-4326-bfa5-58f700743d1e",
   "metadata": {},
   "source": [
    "Let's begin by initializing some values."
   ]
  },
  {
   "cell_type": "code",
   "execution_count": 34,
   "id": "a398a2b7-ae2a-4d83-8568-da9541689364",
   "metadata": {},
   "outputs": [],
   "source": [
    "# relatively small value to avoid accumulation and instability\n",
    "Ki = 0.1\n",
    "\n",
    "# the desired temperature inside the oven\n",
    "setpoint = 100\n",
    "\n",
    "# the starting temperature inside the oven\n",
    "process_variable = 20\n",
    "\n",
    "# always start the integral part from zero because there are not any accumulated errors in the beginning\n",
    "integral = 0\n",
    "\n",
    "# small time interval for precise calculations\n",
    "dt = 0.1\n",
    "\n",
    "# 10 seconds time interval\n",
    "time = np.arange(0, 10, dt)\n",
    "\n",
    "# list to store the results\n",
    "process_values = []"
   ]
  },
  {
   "cell_type": "markdown",
   "id": "bffe0e05-3714-4459-8662-8bf1d1c313b1",
   "metadata": {},
   "source": [
    "### D - Derivative\n",
    "The derivative term is found by measuring how fast the error changes over time and then multiplying this rate by the derivative gain, $K_d$. This gain determines the influence of the derivative term on the overall control output.\n",
    "\n",
    "$$ D_{out} = K_\\text{d} \\frac{\\text{d}e(t)}{\\text{d}t} $$\n",
    "\n",
    "Derivative control helps predict the system’s future behavior, which improves how quickly the system stabilizes and increases its stability. Since an ideal derivative can’t be implemented directly, practical PID controllers apply a low-pass filter to the derivative term to reduce noise and limit high-frequency effects.\n",
    "\n",
    "Despite these benefits, derivative action is seldom used in practice - estimated to be included in only about 25% of controllers—because it can have unpredictable effects on system stability in real-world conditions.\n",
    "\n",
    "To begin with, let's implement the function that calculates the derivative term."
   ]
  },
  {
   "cell_type": "code",
   "execution_count": 28,
   "id": "941fe316-4c43-4a46-959f-ebb904e548f5",
   "metadata": {},
   "outputs": [],
   "source": [
    "# Kd stand for the derivative gain\n",
    "# previous_error is the error from the previous step\n",
    "# dt is the time step\n",
    "# error = e(t) which is the current error\n",
    "def derivative_term(Kd, error, previous_error, dt):\n",
    "    # calculate the rate of change of the error (how fast the error is changing over time)\n",
    "    derivative = (error - previous_error) / dt\n",
    "    \n",
    "    # appllying the gain and calculating the term\n",
    "    d_out = Kd * derivative\n",
    "    \n",
    "    # returns the calculated derivative output\n",
    "    return d_out"
   ]
  },
  {
   "cell_type": "markdown",
   "id": "9ed027b9-239d-4701-b116-56c97472821a",
   "metadata": {},
   "source": [
    "Let's begin by initializing some values."
   ]
  },
  {
   "cell_type": "code",
   "execution_count": 35,
   "id": "2eeaffda-8298-4b31-9eba-3a5ad1852bf7",
   "metadata": {},
   "outputs": [],
   "source": [
    "# relatively small value to avoid instability due to quick reaction to changes\n",
    "Ki = 0.5\n",
    "\n",
    "# the desired temperature inside the oven\n",
    "setpoint = 100\n",
    "\n",
    "# the starting temperature inside the oven\n",
    "process_variable = 20\n",
    "\n",
    "# always start the previous error at zero because there are not any errors in the beginning\n",
    "previous_error = 0\n",
    "\n",
    "# small time interval for precise calculations\n",
    "dt = 0.1\n",
    "\n",
    "# 10 seconds time interval\n",
    "time = np.arange(0, 10, dt)\n",
    "\n",
    "# list to store the results\n",
    "process_values = []"
   ]
  },
  {
   "cell_type": "markdown",
   "id": "0c10cbce-b39e-46ae-86fc-f49c4ffcb9ef",
   "metadata": {},
   "source": [
    "### How do they work together\n",
    "The PID controller automatically applies corrections to bring the $\\text{PV}$ to the same value as the $\\text{SP}$. The Proportional (P) component responds to the current error value by producing an output that is directly proportional to the magnitude of the error. At the same time, the Integral (I) component considers the cumulative sum of past errors to eliminate residual steady-state errors that persist over time, thus removing any remaining discrepancies. Finally, the Derivative (D) component predicts future errors by assessing the rate of change of the error, which helps reduce overshoot and enhance system stability, especially during sudden changes.\n",
    "\n",
    "After we combine the three separate parts we get the final formula\n",
    "\n",
    "$$ K_p e(t) + K_i \\int_{0}^{t} e(\\tau) \\text{d}\\tau + K_\\text{d} \\frac{\\text{d}e(t)}{\\text{d}t} $$"
   ]
  },
  {
   "cell_type": "markdown",
   "id": "edeca5ce-9e35-4b35-a152-75dd8b91ff1f",
   "metadata": {},
   "source": [
    "### Selective use of control terms\n",
    "Although the PID controller algorithm consists of three parts, there are situations in which one or two of them are sufficient to provide proper control. This can be achieved by setting the unused values to zero. In such cases, the algorithm is referred to as a PI, PD, P, or I controller. The integral part is often necessary for the system to reach the desired output. For example, the PID algorithm is frequently used in its PI form in cases where differentiation would be sensitive to measurement noise.\n",
    "\n",
    "As mentioned in the Derivative subsection, the letter D is often omitted from the algorithm. Let's see an example for a PI controller\n",
    "\n",
    "Good example for PI usage is..."
   ]
  },
  {
   "cell_type": "code",
   "execution_count": 11,
   "id": "da887149-bf4a-4b05-9529-2c8164791324",
   "metadata": {},
   "outputs": [
    {
     "name": "stdout",
     "output_type": "stream",
     "text": [
      "Demo\n"
     ]
    }
   ],
   "source": [
    "print(\"Demo\")"
   ]
  },
  {
   "cell_type": "markdown",
   "id": "957a0179-7c6e-43ed-977f-634a2cf4f997",
   "metadata": {},
   "source": [
    "### What happens if there is a missing component?\n",
    "We already saw an example where the derivative part can be omitted. However, what would happen if it is required and not present? What problems could occur?\n",
    "\n",
    "Good example for PI that needs D..."
   ]
  },
  {
   "cell_type": "code",
   "execution_count": 10,
   "id": "b8f3380b-e4d5-4116-8030-23bfeec57f88",
   "metadata": {},
   "outputs": [
    {
     "name": "stdout",
     "output_type": "stream",
     "text": [
      "Demo\n"
     ]
    }
   ],
   "source": [
    "print(\"Demo\")"
   ]
  },
  {
   "cell_type": "markdown",
   "id": "d1703d9a-6110-49f8-8285-54f54fe929ea",
   "metadata": {},
   "source": [
    "## Tuning\n",
    "### Why is it important?"
   ]
  },
  {
   "cell_type": "markdown",
   "id": "90ce6284-78ec-4570-8a6f-5447bbc4673a",
   "metadata": {},
   "source": [
    "## Demonstration\n",
    "Some text to add"
   ]
  },
  {
   "cell_type": "code",
   "execution_count": 19,
   "id": "8489f4c0-9267-470a-b6a5-0ff02cf1e4c0",
   "metadata": {},
   "outputs": [
    {
     "name": "stdout",
     "output_type": "stream",
     "text": [
      "Demo\n"
     ]
    }
   ],
   "source": [
    "print(\"Demo\")"
   ]
  },
  {
   "cell_type": "markdown",
   "id": "232c9df2-aecc-4b6c-9943-7756d53ce9ed",
   "metadata": {
    "jp-MarkdownHeadingCollapsed": true
   },
   "source": [
    "## Advantages and disadvantages\n",
    "### Advantages\n",
    "Explanaitions\n",
    "### Disadvantages\n",
    "Explanaitions"
   ]
  },
  {
   "cell_type": "markdown",
   "id": "ea4069d2-5f1e-4c95-9ad9-506038ae80fe",
   "metadata": {},
   "source": [
    "## Alternatives\n",
    "Examples"
   ]
  },
  {
   "cell_type": "markdown",
   "id": "d3390b49-ad13-4764-931f-a7ea2ad2c487",
   "metadata": {},
   "source": [
    "## Dictionary\n",
    "**Set Point:** Set Point is a value that is usually set by the user. In the example of cruise control, it is the desired speed that the vehicle should maintain.\n",
    "\n",
    "**Process Value:** Process Value is the value that is processed by the PID controller. In the cruise control example, this is the current (actual) speed of the vehicle.\n",
    "\n",
    "**Output:** The output of the PID controller is calculated by summing the proportional, integral, and derivative terms. Their effect on the output depends on their respective gain coefficients. In a cruise control system, for example, the output of the PID controller is the control signal to the throttle valve.\n",
    "\n",
    "**Error:** Error is the value used by the PID controller to determine how to adjust the output so that the process value approaches the set point.\n",
    "\n",
    "**Gain:** Gain is used as a multiplication factor for the three PID terms – Proportional, Integral, and Derivative. By adjusting it, the user can control the influence of the PID controller on the entire system."
   ]
  },
  {
   "cell_type": "markdown",
   "id": "1c50eca9-c106-49d1-8b0c-0de75c44e0ea",
   "metadata": {},
   "source": [
    "## Sources\n",
    "[Proportional–integral–derivative controller - Wikipedia](https://en.wikipedia.org/wiki/Proportional%E2%80%93integral%E2%80%93derivative_controller)\n",
    "\n",
    "[PID explained](https://pidexplained.com/pid-controller-explained/)\n",
    "\n",
    "[How to tune PID](https://pidexplained.com/how-to-tune-a-pid-controller/)\n",
    "\n",
    "[Basic implementation](https://medium.com/@aleksej.gudkov/python-pid-controller-example-a-complete-guide-5f35589eec86)"
   ]
  }
 ],
 "metadata": {
  "kernelspec": {
   "display_name": "Python 3 (ipykernel)",
   "language": "python",
   "name": "python3"
  },
  "language_info": {
   "codemirror_mode": {
    "name": "ipython",
    "version": 3
   },
   "file_extension": ".py",
   "mimetype": "text/x-python",
   "name": "python",
   "nbconvert_exporter": "python",
   "pygments_lexer": "ipython3",
   "version": "3.13.0"
  }
 },
 "nbformat": 4,
 "nbformat_minor": 5
}
