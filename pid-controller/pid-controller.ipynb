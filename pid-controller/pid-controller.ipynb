{
 "cells": [
  {
   "cell_type": "code",
   "execution_count": 8,
   "id": "51d8aaa5-e7a7-4d8d-9145-c885b037d325",
   "metadata": {},
   "outputs": [],
   "source": [
    "%matplotlib inline"
   ]
  },
  {
   "cell_type": "code",
   "execution_count": 7,
   "id": "6f7f3558-dff1-471c-88f9-22aec376897f",
   "metadata": {},
   "outputs": [],
   "source": [
    "import numpy as np\n",
    "import matplotlib.pyplot as plt"
   ]
  },
  {
   "cell_type": "markdown",
   "id": "77f3df3c-ee97-412e-8a7a-c8c91f867d36",
   "metadata": {},
   "source": [
    "# PID Controller #\n",
    "### Proportional-integral-derivative controller ###"
   ]
  },
  {
   "cell_type": "markdown",
   "id": "0259cf2d-9e0c-4a64-abc4-6cb7111c6114",
   "metadata": {},
   "source": [
    "## Introduction ##"
   ]
  },
  {
   "cell_type": "markdown",
   "id": "5b026e57-81a8-4a06-b1af-366851504af4",
   "metadata": {},
   "source": [
    "$$ u(t) = MV(t) = K_p e(t) + K_i \\int_{0}^{t} e(\\tau) \\text{d}\\tau + K_\\text{d} \\frac{\\text{d}e(t)}{\\text{d}t} $$"
   ]
  },
  {
   "cell_type": "markdown",
   "id": "121c8f6e-38b9-4187-9cf8-9f105aef90f9",
   "metadata": {},
   "source": [
    "## Use cases ##\n",
    "Some Text"
   ]
  },
  {
   "cell_type": "markdown",
   "id": "87fa0bd9-76c6-49ec-a96c-e948d3d080f4",
   "metadata": {},
   "source": [
    "## Components ##\n",
    "The PID controller algorithm consists of three main parts. Each letter in PID corresponds to one of them.\n",
    "\n",
    "There are situations in which one or two parts can be omitted. We will see examples of that at the end of this section."
   ]
  },
  {
   "cell_type": "markdown",
   "id": "85a98a28-0680-4308-8551-a5029905ff33",
   "metadata": {},
   "source": [
    "### P - Proportional ###\n",
    "explanaition and latex\n",
    "$$ K_p e(t) $$"
   ]
  },
  {
   "cell_type": "code",
   "execution_count": 2,
   "id": "cc484362-5dd2-455d-8d67-1aeca3f92521",
   "metadata": {},
   "outputs": [
    {
     "name": "stdout",
     "output_type": "stream",
     "text": [
      "Proportional Demo\n"
     ]
    }
   ],
   "source": [
    "print(\"Proportional Demo\")"
   ]
  },
  {
   "cell_type": "markdown",
   "id": "e358942d-8af3-4867-a38b-9c581ef4bc30",
   "metadata": {},
   "source": [
    "### I - Integral ###\n",
    "explanaition and latex\n",
    "$$ K_i \\int_{0}^{t} e(\\tau) \\text{d}\\tau $$"
   ]
  },
  {
   "cell_type": "code",
   "execution_count": 3,
   "id": "5be86bb3-997d-4afa-b9f9-315c4fc5aa70",
   "metadata": {},
   "outputs": [
    {
     "name": "stdout",
     "output_type": "stream",
     "text": [
      "Integral Demo\n"
     ]
    }
   ],
   "source": [
    "print(\"Integral Demo\")"
   ]
  },
  {
   "cell_type": "markdown",
   "id": "bffe0e05-3714-4459-8662-8bf1d1c313b1",
   "metadata": {},
   "source": [
    "### D - Derivative ###\n",
    "explanaition and latex\n",
    "$$ K_\\text{d} \\frac{\\text{d}e(t)}{\\text{d}t} $$"
   ]
  },
  {
   "cell_type": "markdown",
   "id": "0c10cbce-b39e-46ae-86fc-f49c4ffcb9ef",
   "metadata": {},
   "source": [
    "### Working together ###\n",
    "explanaition and latex"
   ]
  },
  {
   "cell_type": "code",
   "execution_count": 4,
   "id": "aaa35b28-a6fb-4ac6-8364-7dae79512b11",
   "metadata": {},
   "outputs": [
    {
     "name": "stdout",
     "output_type": "stream",
     "text": [
      "Derivative Demo\n"
     ]
    }
   ],
   "source": [
    "print(\"Derivative Demo\")"
   ]
  },
  {
   "cell_type": "markdown",
   "id": "edeca5ce-9e35-4b35-a152-75dd8b91ff1f",
   "metadata": {},
   "source": [
    "### Selective use of control terms ###\n",
    "Although the PID controller algorithm consists of three parts, there are situations in which one or two of them are sufficient to provide proper control. This can be achieved by setting the unused values to zero. In such cases, the algorithm is referred to as a PI, PD, P, or I controller. The integral part is often necessary for the system to reach the desired output. For example, the PID algorithm is frequently used in its PI form in cases where differentiation would be sensitive to measurement noise.\n",
    "\n",
    "Good example for PI usage is..."
   ]
  },
  {
   "cell_type": "markdown",
   "id": "90ce6284-78ec-4570-8a6f-5447bbc4673a",
   "metadata": {},
   "source": [
    "## Demonstration ##\n",
    "Some text to add"
   ]
  },
  {
   "cell_type": "code",
   "execution_count": 1,
   "id": "8489f4c0-9267-470a-b6a5-0ff02cf1e4c0",
   "metadata": {},
   "outputs": [
    {
     "name": "stdout",
     "output_type": "stream",
     "text": [
      "Demo\n"
     ]
    }
   ],
   "source": [
    "print(\"Demo\")"
   ]
  },
  {
   "cell_type": "markdown",
   "id": "232c9df2-aecc-4b6c-9943-7756d53ce9ed",
   "metadata": {
    "jp-MarkdownHeadingCollapsed": true
   },
   "source": [
    "## Advantages and disadvantages ##\n",
    "### Advantages ###\n",
    "Explanaitions\n",
    "### Disadvantages ###\n",
    "Explanaitions"
   ]
  },
  {
   "cell_type": "markdown",
   "id": "ea4069d2-5f1e-4c95-9ad9-506038ae80fe",
   "metadata": {},
   "source": [
    "## Alternatives ##\n",
    "Examples"
   ]
  }
 ],
 "metadata": {
  "kernelspec": {
   "display_name": "Python 3 (ipykernel)",
   "language": "python",
   "name": "python3"
  },
  "language_info": {
   "codemirror_mode": {
    "name": "ipython",
    "version": 3
   },
   "file_extension": ".py",
   "mimetype": "text/x-python",
   "name": "python",
   "nbconvert_exporter": "python",
   "pygments_lexer": "ipython3",
   "version": "3.13.0"
  }
 },
 "nbformat": 4,
 "nbformat_minor": 5
}
