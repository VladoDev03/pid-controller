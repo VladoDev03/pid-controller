{
 "cells": [
  {
   "cell_type": "code",
   "execution_count": 8,
   "id": "51d8aaa5-e7a7-4d8d-9145-c885b037d325",
   "metadata": {},
   "outputs": [],
   "source": [
    "%matplotlib inline"
   ]
  },
  {
   "cell_type": "code",
   "execution_count": 7,
   "id": "6f7f3558-dff1-471c-88f9-22aec376897f",
   "metadata": {},
   "outputs": [],
   "source": [
    "import numpy as np\n",
    "import matplotlib.pyplot as plt"
   ]
  },
  {
   "cell_type": "markdown",
   "id": "77f3df3c-ee97-412e-8a7a-c8c91f867d36",
   "metadata": {},
   "source": [
    "# PID Controller #\n",
    "### Proportional-integral-derivative controller ###"
   ]
  },
  {
   "cell_type": "markdown",
   "id": "0259cf2d-9e0c-4a64-abc4-6cb7111c6114",
   "metadata": {},
   "source": [
    "## Introduction ##\n",
    "A proportional–integral–derivative controller (also known as a three-term controller, though this is not always accurate – as we will see at the end of the Components section) is a feedback-based control loop mechanism commonly used to manage machines and processes that require continuous control and automatic adjustments. It is typically employed in industrial control systems where constant modulation is necessary without human intervention. Recently, it has also been used in everyday consumer technology. The PID controller automatically compares the target value (setpoint or $\\text{SP}$) with the actual value of the system (process variable or $\\text{PV}$). The difference between these two values is called the error value, denoted as $e(t)$.\n",
    "\n",
    "The three correcting terms sum up to form the manipulated variable ($\\text{MV}$). Let’s denote the controller output as $𝑢(𝑡)$ Thus, the final form of the PID controller algorithm can be expressed as:\n",
    "\n",
    "$$ u(t) = MV(t) = K_p e(t) + K_i \\int_{0}^{t} e(\\tau) \\text{d}\\tau + K_\\text{d} \\frac{\\text{d}e(t)}{\\text{d}t} $$\n",
    "\n",
    "It is important to note that:\n",
    "\n",
    "$K_p$ (proportional gain), $K_i$ (integral gain), $K_d$ (derivative gain) are tuning parameters (more on that in the Tuning section)\n",
    "\n",
    "$e(t) = \\text{SP} - \\text{PV}(t)$ is the error\n",
    "\n",
    "$t$ is the time or instantaneous time (the present),\n",
    "\n",
    "$\\tau$ is the variable of integration (takes on values from time $0$ to the present $t$)."
   ]
  },
  {
   "cell_type": "markdown",
   "id": "121c8f6e-38b9-4187-9cf8-9f105aef90f9",
   "metadata": {},
   "source": [
    "## Example use cases ##\n",
    "Let’s start with three examples that we’ll explore to help us understand what the actual operation of this algorithm looks like in practice.\n",
    "### Two-wheeled self-balancing robots ###\n",
    "A common example is a two-wheeled robot that balances itself. When the robot tilts forward or backward, the PID controller adjusts the wheel speed to maintain balance. This is achieved by continuously measuring the tilt angle and adjusting the motor power to restore balance quickly and smoothly, preventing the robot from tipping over.\n",
    "### Vehicle's cruise control system ###\n",
    "Another common example is the cruise control system in a car. For instance, when a car is climbing a hill, its speed will drop if the engine’s power output remains constant. The PID controller automatically adjusts the engine power to bring the car back to the desired speed efficiently, with minimal delay and overshoot.\n",
    "### Temperature control system ###\n",
    "Another example is temperature control in an industrial oven. If the oven temperature drops below the setpoint due to sudden heat loss (for example, when the door is opened), the PID controller increases the heating element’s power output to return the temperature to the desired level efficiently, minimizing overshoot and ensuring stable operation."
   ]
  },
  {
   "cell_type": "markdown",
   "id": "87fa0bd9-76c6-49ec-a96c-e948d3d080f4",
   "metadata": {},
   "source": [
    "## Components ##\n",
    "The PID controller algorithm consists of three main parts. Each letter in PID corresponds to one of them.\n",
    "\n",
    "There are situations in which one or two parts can be omitted. We will see examples of that further in this section."
   ]
  },
  {
   "cell_type": "markdown",
   "id": "e7f00a8e-7598-42e2-a874-a3dc1d2b13ad",
   "metadata": {},
   "source": [
    "### P - Proportional ###\n",
    "The proportional term generates an output that directly relates to the current error value. This response is controlled by multiplying the error by a proportional gain constant $K_p$.\n",
    "\n",
    "The proportional term is given by\n",
    "\n",
    "$$ P_{out} = K_p e(t) $$\n",
    "\n",
    "When $K_p$ is high, even a small change in error causes a large output adjustment, which can make the system unstable if set too high. On the other hand, a low $K_p$ leads to a weak output response even for significant errors, making the controller less sensitive and slower to react. If $K_p$ is too low, the controller might not correct disturbances effectively."
   ]
  },
  {
   "cell_type": "code",
   "execution_count": 9,
   "id": "cc484362-5dd2-455d-8d67-1aeca3f92521",
   "metadata": {},
   "outputs": [
    {
     "name": "stdout",
     "output_type": "stream",
     "text": [
      "Proportional Demo\n"
     ]
    }
   ],
   "source": [
    "print(\"Proportional Demo\")"
   ]
  },
  {
   "cell_type": "markdown",
   "id": "e358942d-8af3-4867-a38b-9c581ef4bc30",
   "metadata": {},
   "source": [
    "### I - Integral ###\n",
    "The integral term accounts for both how large the error is and how long it lasts. It sums up the error over time, capturing the total accumulated deviation that should have been corrected before. This accumulated error is then multiplied by the integral gain ($K_i$) and added to the controller’s output.\n",
    "\n",
    "The integral term is given by\n",
    "\n",
    "$$ I_{out} = K_i \\int_{0}^{t} e(\\tau) \\text{d}\\tau $$\n",
    "\n",
    "The integral action helps the process reach the target value faster and removes the steady-state error that a proportional controller alone cannot fix. However, since it reacts to past accumulated errors, it may cause the process to overshoot the desired setpoint."
   ]
  },
  {
   "cell_type": "code",
   "execution_count": 7,
   "id": "5be86bb3-997d-4afa-b9f9-315c4fc5aa70",
   "metadata": {},
   "outputs": [
    {
     "name": "stdout",
     "output_type": "stream",
     "text": [
      "Integral Demo\n"
     ]
    }
   ],
   "source": [
    "print(\"Integral Demo\")"
   ]
  },
  {
   "cell_type": "markdown",
   "id": "bffe0e05-3714-4459-8662-8bf1d1c313b1",
   "metadata": {},
   "source": [
    "### D - Derivative ###\n",
    "The derivative term is found by measuring how fast the error changes over time and then multiplying this rate by the derivative gain, $K_d$. This gain determines the influence of the derivative term on the overall control output.\n",
    "\n",
    "$$ D_{out} = K_\\text{d} \\frac{\\text{d}e(t)}{\\text{d}t} $$\n",
    "\n",
    "Derivative control helps predict the system’s future behavior, which improves how quickly the system stabilizes and increases its stability. Since an ideal derivative can’t be implemented directly, practical PID controllers apply a low-pass filter to the derivative term to reduce noise and limit high-frequency effects.\n",
    "\n",
    "Despite these benefits, derivative action is seldom used in practice - estimated to be included in only about 25% of controllers—because it can have unpredictable effects on system stability in real-world conditions."
   ]
  },
  {
   "cell_type": "code",
   "execution_count": 5,
   "id": "941fe316-4c43-4a46-959f-ebb904e548f5",
   "metadata": {},
   "outputs": [
    {
     "name": "stdout",
     "output_type": "stream",
     "text": [
      "Derivative Demo\n"
     ]
    }
   ],
   "source": [
    "print(\"Derivative Demo\")"
   ]
  },
  {
   "cell_type": "markdown",
   "id": "0c10cbce-b39e-46ae-86fc-f49c4ffcb9ef",
   "metadata": {},
   "source": [
    "### How do they work together ###\n",
    "The PID controller automatically applies corrections to bring the $\\text{PV}$ to the same value as the $\\text{SP}$. The Proportional (P) component responds to the current error value by producing an output that is directly proportional to the magnitude of the error. At the same time, the Integral (I) component considers the cumulative sum of past errors to eliminate residual steady-state errors that persist over time, thus removing any remaining discrepancies. Finally, the Derivative (D) component predicts future errors by assessing the rate of change of the error, which helps reduce overshoot and enhance system stability, especially during sudden changes.\n",
    "\n",
    "After we combine the three separate parts we get the final formula\n",
    "\n",
    "$$ K_p e(t) + K_i \\int_{0}^{t} e(\\tau) \\text{d}\\tau + K_\\text{d} \\frac{\\text{d}e(t)}{\\text{d}t} $$"
   ]
  },
  {
   "cell_type": "markdown",
   "id": "edeca5ce-9e35-4b35-a152-75dd8b91ff1f",
   "metadata": {},
   "source": [
    "### Selective use of control terms ###\n",
    "Although the PID controller algorithm consists of three parts, there are situations in which one or two of them are sufficient to provide proper control. This can be achieved by setting the unused values to zero. In such cases, the algorithm is referred to as a PI, PD, P, or I controller. The integral part is often necessary for the system to reach the desired output. For example, the PID algorithm is frequently used in its PI form in cases where differentiation would be sensitive to measurement noise.\n",
    "\n",
    "As mentioned in the Derivative subsection, the letter D is often omitted from the algorithm. Let's see an example for a PI controller\n",
    "\n",
    "Good example for PI usage is..."
   ]
  },
  {
   "cell_type": "code",
   "execution_count": 11,
   "id": "da887149-bf4a-4b05-9529-2c8164791324",
   "metadata": {},
   "outputs": [
    {
     "name": "stdout",
     "output_type": "stream",
     "text": [
      "Demo\n"
     ]
    }
   ],
   "source": [
    "print(\"Demo\")"
   ]
  },
  {
   "cell_type": "markdown",
   "id": "957a0179-7c6e-43ed-977f-634a2cf4f997",
   "metadata": {},
   "source": [
    "### What happens if there is a missing component? ###\n",
    "We already saw an example where the derivative part can be omitted. However, what would happen if it is required and not present? What problems could occur?\n",
    "\n",
    "Good example for PI that needs D..."
   ]
  },
  {
   "cell_type": "code",
   "execution_count": 10,
   "id": "b8f3380b-e4d5-4116-8030-23bfeec57f88",
   "metadata": {},
   "outputs": [
    {
     "name": "stdout",
     "output_type": "stream",
     "text": [
      "Demo\n"
     ]
    }
   ],
   "source": [
    "print(\"Demo\")"
   ]
  },
  {
   "cell_type": "markdown",
   "id": "90ce6284-78ec-4570-8a6f-5447bbc4673a",
   "metadata": {},
   "source": [
    "## Demonstration ##\n",
    "Some text to add"
   ]
  },
  {
   "cell_type": "code",
   "execution_count": 1,
   "id": "8489f4c0-9267-470a-b6a5-0ff02cf1e4c0",
   "metadata": {},
   "outputs": [
    {
     "name": "stdout",
     "output_type": "stream",
     "text": [
      "Demo\n"
     ]
    }
   ],
   "source": [
    "print(\"Demo\")"
   ]
  },
  {
   "cell_type": "markdown",
   "id": "232c9df2-aecc-4b6c-9943-7756d53ce9ed",
   "metadata": {
    "jp-MarkdownHeadingCollapsed": true
   },
   "source": [
    "## Advantages and disadvantages ##\n",
    "### Advantages ###\n",
    "Explanaitions\n",
    "### Disadvantages ###\n",
    "Explanaitions"
   ]
  },
  {
   "cell_type": "markdown",
   "id": "ea4069d2-5f1e-4c95-9ad9-506038ae80fe",
   "metadata": {},
   "source": [
    "## Alternatives ##\n",
    "Examples"
   ]
  }
 ],
 "metadata": {
  "kernelspec": {
   "display_name": "Python 3 (ipykernel)",
   "language": "python",
   "name": "python3"
  },
  "language_info": {
   "codemirror_mode": {
    "name": "ipython",
    "version": 3
   },
   "file_extension": ".py",
   "mimetype": "text/x-python",
   "name": "python",
   "nbconvert_exporter": "python",
   "pygments_lexer": "ipython3",
   "version": "3.13.0"
  }
 },
 "nbformat": 4,
 "nbformat_minor": 5
}
